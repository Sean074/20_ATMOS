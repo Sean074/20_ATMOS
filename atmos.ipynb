{
 "cells": [
  {
   "cell_type": "markdown",
   "metadata": {},
   "source": [
    "<h1>ATMOS Version 1.1.0</h1>\n",
    "The ATMOS calculator, written in Python. It is able to: \n",
    "<li>Determine atmos properties for any given altitude</li>\n",
    "<li>Determine all airspeeds (including Mach) given a speed and altitude</li>\n",
    "<li>Determine all airspeeds given Mach and altitude</li>\n",
    "\n"
   ]
  },
  {
   "cell_type": "code",
   "execution_count": 216,
   "metadata": {},
   "outputs": [],
   "source": [
    "# Python Imports\n",
    "import pandas as pd\n",
    "import numpy as np\n",
    "import math\n",
    "import csv"
   ]
  },
  {
   "cell_type": "markdown",
   "metadata": {},
   "source": [
    "<h2>Load the Standard Atmosphere</h2>\n",
    "Imports standard atmosphere from a file \"/instance/standard_atmos.csv\".\n",
    "\n",
    "Parameters are:\n",
    "<li>Hg:       Geometric Altitude [ft]</li>\n",
    "<li>H:        Geopotential Altitude [ft]</li>\n",
    "<li>T:        Temperature [deg_R]</li>\n",
    "<li>P:        Presure [lb/ft3]</li>\n",
    "<li>P/P0:     Presure Ratio </li>\n",
    "<li>pho:      Density [slug/ft3] </li>\n",
    "<li>pho/pho0: Density Ratio </li>"
   ]
  },
  {
   "cell_type": "code",
   "execution_count": 217,
   "metadata": {},
   "outputs": [
    {
     "name": "stdout",
     "output_type": "stream",
     "text": [
      "   Hgeo_ft    H_ft   T_degR  P_lb/ft3    P/P0  pho_slug/ft3  pho/pho0\n",
      "0    -2500 -2500.0  527.584    2300.5  1.0871      0.002547    1.0711\n",
      "1        0     0.0  518.670    2116.2  1.0000      0.002378    1.0000\n",
      "2     2500  2500.0  509.756    1931.9  0.9129      0.002209    0.9289\n"
     ]
    }
   ],
   "source": [
    "# Open csv\n",
    "df_atmos = pd.read_csv('./instance/standard_atmos.csv', comment=\"#\")\n",
    "\n",
    "print(df_atmos.head(3))\n"
   ]
  },
  {
   "cell_type": "markdown",
   "metadata": {},
   "source": [
    "<h2>User Defines the condition to analize</h2>\n",
    "User selects\n",
    "<li>Altitude pressure in ft</li>\n",
    "<li>Speed KEAS, KCAS or KTAS</li>\n",
    "<li>Speed value in Kts</li>"
   ]
  },
  {
   "cell_type": "code",
   "execution_count": 218,
   "metadata": {},
   "outputs": [],
   "source": [
    "h_press_user = 60000 # Units ft\n",
    "analysis_type = \"Mach\" # \"KEAS\", \"KCAS\", \"KTAS\" or Mach\n",
    "user_speed = 1.56912    # Units kts"
   ]
  },
  {
   "cell_type": "markdown",
   "metadata": {},
   "source": [
    "<h2>Calculation of Atmosheric Parameters</h2>\n",
    "Process flow:\n",
    "<li>Extract sealevel contants</li>\n",
    "<li>Test request is \"on table\"</li>\n",
    "<li>Interpolate atmos properties to requested altitude</li>\n",
    "<li>Caculate airspeeds and Mach</li>"
   ]
  },
  {
   "cell_type": "code",
   "execution_count": 219,
   "metadata": {},
   "outputs": [
    {
     "name": "stdout",
     "output_type": "stream",
     "text": [
      "2116.2\n"
     ]
    }
   ],
   "source": [
    "# Extract P at sealevel\n",
    "p_0 = df_atmos.loc[df_atmos[\"Hgeo_ft\"]==0, \"P_lb/ft3\"].values[0] \n",
    "print(p_0)"
   ]
  },
  {
   "cell_type": "code",
   "execution_count": 220,
   "metadata": {},
   "outputs": [],
   "source": [
    "# Test request is \"on table\"\n",
    "hgeo_min = df_atmos[\"Hgeo_ft\"].min()\n",
    "hgeo_max = df_atmos[\"Hgeo_ft\"].max()\n",
    "\n",
    "# Test user hgeo winthin table\n",
    "if hgeo_min > h_press_user:\n",
    "  print(\"ERROR: Altitude too low out of range\")\n",
    "  exit()\n",
    "elif hgeo_max < h_press_user:\n",
    "  print(\"ERROR: Altitude too high out of range\")\n",
    "  exit()"
   ]
  },
  {
   "cell_type": "code",
   "execution_count": 221,
   "metadata": {},
   "outputs": [
    {
     "name": "stdout",
     "output_type": "stream",
     "text": [
      "For a requested altitude of: 60000 ft\n",
      "Pressure [lb/ft2]: 151.03\n",
      "Density [slug/ft3]: 0.000225691\n"
     ]
    }
   ],
   "source": [
    "# Interpolate atmos properties to requested altitude\n",
    "pTarget        = np.interp(h_press_user, df_atmos[\"Hgeo_ft\"], df_atmos[\"P_lb/ft3\"])\n",
    "phoRatioTarget = np.interp(h_press_user, df_atmos[\"Hgeo_ft\"], df_atmos[\"pho/pho0\"])\n",
    "phoTarget      = np.interp(h_press_user, df_atmos[\"Hgeo_ft\"], df_atmos[\"pho_slug/ft3\"])\n",
    "\n",
    "print(f\"For a requested altitude of: {h_press_user} ft\")\n",
    "print(f\"Pressure [lb/ft2]: {pTarget}\")\n",
    "print(f\"Density [slug/ft3]: {phoTarget}\")\n"
   ]
  },
  {
   "cell_type": "code",
   "execution_count": 222,
   "metadata": {},
   "outputs": [
    {
     "name": "stdout",
     "output_type": "stream",
     "text": [
      "{'KCAS': 356.44645079140406, 'KEAS': 277.20703835885485, 'KTAS': 899.8521252810896, 'Mach': 1.56912, 'q': 462.29347509474144}\n"
     ]
    }
   ],
   "source": [
    "# Calculate Airspeed\n",
    "\n",
    "def speed_calc (analysis, speed_defined, phoRatioTarget, pTarget, p_0):\n",
    "  if analysis.upper() == \"KEAS\":  # Method: ALT AND KEAS\n",
    "    KEASTarget = speed_defined\n",
    "    aTarget    = math.sqrt(1.4*pTarget/phoTarget)*0.5924838\n",
    "    KTASTarget = KEASTarget/math.sqrt(phoRatioTarget)\n",
    "    MachTarget = KTASTarget/aTarget\n",
    "    qTarget    = pTarget*((1+0.2*MachTarget**2)**3.5-1)\n",
    "    KCASTarget = 661.47*math.sqrt(5*((qTarget/p_0+1)**(2/7)-1))\n",
    "\n",
    "  elif analysis.upper() == \"KTAS\":  # Method ALT and KTAS\n",
    "    KTASTarget = speed_defined\n",
    "    aTarget    = math.sqrt(1.4*pTarget/phoTarget)*0.5924838\n",
    "    KEASTarget = KTASTarget*math.sqrt(phoRatioTarget)\n",
    "    MachTarget = KTASTarget/aTarget\n",
    "    qTarget    = pTarget*((1+0.2*MachTarget**2)**3.5-1)\n",
    "    KCASTarget = 661.47*math.sqrt(5*((qTarget/p_0+1)**(2/7)-1))\n",
    "\n",
    "  elif analysis.upper() == \"KCAS\":  # Method ALT and KCAS    \n",
    "    KCASTarget = speed_defined\n",
    "    aTarget = math.sqrt(1.4*pTarget/phoTarget)*0.5924838\n",
    "    qTarget =  p_0*((0.2*(KCASTarget/661.47)**2+1)**3.5-1)\n",
    "    MachTarget = math.sqrt(5*((qTarget/pTarget+1)**(2/7)-1))\n",
    "    KTASTarget = aTarget*MachTarget\n",
    "    KEASTarget = KTASTarget*math.sqrt(phoRatioTarget)\n",
    "  \n",
    "  elif analysis.upper() == \"MACH\": #Method ALT and MACH\n",
    "    MachTarget = speed_defined\n",
    "    aTarget = math.sqrt(1.4*pTarget/phoTarget)*0.5924838\n",
    "    KTASTarget = aTarget*MachTarget\n",
    "    KEASTarget = KTASTarget*math.sqrt(phoRatioTarget)\n",
    "    qTarget    = pTarget*((1+0.2*MachTarget**2)**3.5-1)\n",
    "    KCASTarget = 661.47*math.sqrt(5*((qTarget/p_0+1)**(2/7)-1))\n",
    "\n",
    "  else:\n",
    "    print(\"Requested analysis not available\")\n",
    "    KTASTarget = np.NaN\n",
    "    KCASTarget = np.NaN\n",
    "    KEASTarget = np.NaN\n",
    "    MachTarget = np.NaN\n",
    "    qTarget = np.NaN\n",
    "\n",
    "  df = {\n",
    "    'KCAS': KCASTarget,\n",
    "    'KEAS': KEASTarget,\n",
    "    'KTAS': KTASTarget,\n",
    "    'Mach': MachTarget,\n",
    "    'q': qTarget,\n",
    "  }\n",
    "\n",
    "  return df\n",
    "\n",
    "output = speed_calc(\n",
    "  analysis=analysis_type,\n",
    "  speed_defined=user_speed,\n",
    "  phoRatioTarget=phoRatioTarget,\n",
    "  pTarget=pTarget,\n",
    "  p_0=p_0,\n",
    "  )\n",
    "\n",
    "print(output)"
   ]
  },
  {
   "cell_type": "markdown",
   "metadata": {},
   "source": [
    "<h2>Output</h2>\n",
    "Prints output to user and appends to log file."
   ]
  },
  {
   "cell_type": "code",
   "execution_count": 223,
   "metadata": {},
   "outputs": [],
   "source": [
    "\n",
    "\n",
    "with open('AtmosLog.txt', 'w') as f:  \n",
    "    w = csv.DictWriter(f, output.keys())\n",
    "    w.writeheader()\n",
    "    w.writerow(output)\n"
   ]
  }
 ],
 "metadata": {
  "kernelspec": {
   "display_name": "Python 3",
   "language": "python",
   "name": "python3"
  },
  "language_info": {
   "codemirror_mode": {
    "name": "ipython",
    "version": 3
   },
   "file_extension": ".py",
   "mimetype": "text/x-python",
   "name": "python",
   "nbconvert_exporter": "python",
   "pygments_lexer": "ipython3",
   "version": "3.12.0"
  }
 },
 "nbformat": 4,
 "nbformat_minor": 2
}
