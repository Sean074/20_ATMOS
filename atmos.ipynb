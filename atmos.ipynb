{
 "cells": [
  {
   "cell_type": "markdown",
   "metadata": {},
   "source": [
    "<h1>ATMOS Version 1.2.0</h1>\n",
    "The ATMOS calculator, written in Python. It is able to: \n",
    "<li>Determine atmos properties for any given altitude</li>\n",
    "<li>Determine all airspeeds (including Mach) given a speed and altitude (LIMITED TO BELOW MACH 1.0</li>\n",
    "<li>Determine all airspeeds given Mach and altitude</li>\n",
    "<ln>Ability to plot speed altitude chart</ln>\n",
    "\n"
   ]
  },
  {
   "cell_type": "code",
   "execution_count": 11,
   "metadata": {},
   "outputs": [],
   "source": [
    "# Python Imports\n",
    "import pandas as pd\n",
    "import numpy as np\n",
    "import math\n",
    "import csv\n",
    "import matplotlib.pyplot as plt\n",
    "import plotly.express as px"
   ]
  },
  {
   "cell_type": "markdown",
   "metadata": {},
   "source": [
    "<h2>Load the Standard Atmosphere</h2>\n",
    "Imports standard atmosphere from a file \"/instance/standard_atmos.csv\".\n",
    "\n",
    "Parameters are:\n",
    "<li>Hg:       Geometric Altitude [ft]</li>\n",
    "<li>H:        Geopotential Altitude [ft]</li>\n",
    "<li>T:        Temperature [deg_R]</li>\n",
    "<li>P:        Presure [lb/ft3]</li>\n",
    "<li>P/P0:     Presure Ratio </li>\n",
    "<li>pho:      Density [slug/ft3] </li>\n",
    "<li>pho/pho0: Density Ratio </li>"
   ]
  },
  {
   "cell_type": "code",
   "execution_count": 12,
   "metadata": {},
   "outputs": [
    {
     "name": "stdout",
     "output_type": "stream",
     "text": [
      "   Hgeo_ft    H_ft   T_degR  P_lb/ft3    P/P0  pho_slug/ft3  pho/pho0\n",
      "0    -2500 -2500.0  527.584    2300.5  1.0871      0.002547    1.0711\n",
      "1        0     0.0  518.670    2116.2  1.0000      0.002378    1.0000\n",
      "2     2500  2500.0  509.756    1931.9  0.9129      0.002209    0.9289\n"
     ]
    }
   ],
   "source": [
    "# Open csv\n",
    "df_atmos = pd.read_csv('./instance/standard_atmos.csv', comment=\"#\")\n",
    "\n",
    "print(df_atmos.head(3))\n"
   ]
  },
  {
   "cell_type": "markdown",
   "metadata": {},
   "source": [
    "<h2>User Defines the condition to analize</h2>\n",
    "User selects\n",
    "<li>Altitude pressure in ft</li>\n",
    "<li>Speed KEAS, KCAS or KTAS</li>\n",
    "<li>Speed value in Kts</li>"
   ]
  },
  {
   "cell_type": "code",
   "execution_count": 13,
   "metadata": {},
   "outputs": [],
   "source": [
    "h_press_user = 41100 # Units ft\n",
    "analysis_type = \"Mach\" # \"KEAS\", \"KCAS\", \"KTAS\" or Mach\n",
    "user_speed = 0.8   # Units kts"
   ]
  },
  {
   "cell_type": "markdown",
   "metadata": {},
   "source": [
    "<h2>Calculation of Atmosheric Parameters</h2>\n",
    "Process flow:\n",
    "<li>Extract sealevel contants</li>\n",
    "<li>Test request is \"on table\"</li>\n",
    "<li>Interpolate atmos properties to requested altitude</li>\n",
    "<li>Caculate airspeeds and Mach</li>"
   ]
  },
  {
   "cell_type": "code",
   "execution_count": 14,
   "metadata": {},
   "outputs": [
    {
     "name": "stdout",
     "output_type": "stream",
     "text": [
      "2116.2\n"
     ]
    }
   ],
   "source": [
    "# Extract P at sealevel\n",
    "p_0 = df_atmos.loc[df_atmos[\"Hgeo_ft\"]==0, \"P_lb/ft3\"].values[0] \n",
    "print(p_0)"
   ]
  },
  {
   "cell_type": "code",
   "execution_count": 15,
   "metadata": {},
   "outputs": [
    {
     "name": "stdout",
     "output_type": "stream",
     "text": [
      "For a requested altitude of: 41100 ft\n",
      "Pressure [lb/ft2]: 373.61039999999997\n",
      "Density [slug/ft3]: 0.0005583036\n"
     ]
    }
   ],
   "source": [
    "# Interpolate atmos properties to requested altitude\n",
    "def standard_air_data (h_press, df_atmos):\n",
    "\n",
    "  # Test request is \"on table\"\n",
    "  hgeo_min = df_atmos[\"Hgeo_ft\"].min()\n",
    "  hgeo_max = df_atmos[\"Hgeo_ft\"].max()\n",
    "\n",
    "  # Test h within table\n",
    "  if hgeo_min > h_press_user:\n",
    "    print(\"ERROR: Altitude too low out of range\")\n",
    "    exit()\n",
    "  elif hgeo_max < h_press_user:\n",
    "    print(\"ERROR: Altitude too high out of range\")\n",
    "    exit()\n",
    "\n",
    "  p_static  = np.interp(h_press, df_atmos[\"Hgeo_ft\"], df_atmos[\"P_lb/ft3\"])\n",
    "  pho_ratio = np.interp(h_press, df_atmos[\"Hgeo_ft\"], df_atmos[\"pho/pho0\"])\n",
    "  pho = np.interp(h_press, df_atmos[\"Hgeo_ft\"], df_atmos[\"pho_slug/ft3\"])\n",
    "\n",
    "  df = {\n",
    "    'h_press_ft':   h_press,\n",
    "    'p_static_psf': p_static,\n",
    "    'pho_ratio':    pho_ratio,\n",
    "    'pho_slug_ft3': pho,\n",
    "  }\n",
    "\n",
    "  return df\n",
    "\n",
    "user_atmos = standard_air_data(h_press=h_press_user, df_atmos=df_atmos)\n",
    "\n",
    "print(f\"For a requested altitude of: {user_atmos['h_press_ft']} ft\")\n",
    "print(f\"Pressure [lb/ft2]: {user_atmos['p_static_psf']}\")\n",
    "print(f\"Density [slug/ft3]: {user_atmos['pho_slug_ft3']}\")"
   ]
  },
  {
   "cell_type": "code",
   "execution_count": 16,
   "metadata": {},
   "outputs": [
    {
     "name": "stdout",
     "output_type": "stream",
     "text": [
      "{'Alt_ft': 41100, 'KCAS': 236.73780307049637, 'KEAS': 222.3186978794243, 'KTAS': 458.78028762123887, 'Mach': 0.8, 'q_psf': 195.8988807072105}\n"
     ]
    }
   ],
   "source": [
    "# Calculate Airspeed\n",
    "\n",
    "def speed_calc (analysis, speed_defined, atmos, p_0):\n",
    "\n",
    "  a_0        = 661.47  # kts\n",
    "  gamma      = 1.4     # ratio of specific heats for air\n",
    "\n",
    "  aTarget    = math.sqrt(gamma*atmos['p_static_psf']/atmos['pho_slug_ft3'])*0.5924838  # kts, p [], pho []\n",
    "\n",
    "  if analysis.upper() == \"KEAS\":  # Method: ALT AND KEAS\n",
    "    KEASTarget = speed_defined\n",
    "    KTASTarget = KEASTarget/math.sqrt(atmos['pho_ratio'])\n",
    "    MachTarget = KTASTarget/aTarget\n",
    "    qTarget    = atmos['p_static_psf']*((1+0.2*MachTarget**2)**(7/2)-1)\n",
    "    KCASTarget = a_0*math.sqrt(5*((qTarget/p_0+1)**(2/7)-1))\n",
    "\n",
    "  elif analysis.upper() == \"KTAS\":  # Method ALT and KTAS\n",
    "    KTASTarget = speed_defined\n",
    "    KEASTarget = KTASTarget*math.sqrt(atmos['pho_ratio'])\n",
    "    MachTarget = KTASTarget/aTarget\n",
    "    qTarget    = atmos['p_static_psf']*((1+0.2*MachTarget**2)**(7/2)-1)\n",
    "    KCASTarget = a_0*math.sqrt(5*((qTarget/p_0+1)**(2/7)-1))\n",
    "\n",
    "  elif analysis.upper() == \"KCAS\":  # Method ALT and KCAS    \n",
    "    KCASTarget = speed_defined\n",
    "    qTarget =  p_0*((0.2*(KCASTarget/a_0)**2+1)**(7/2)-1)\n",
    "    MachTarget = math.sqrt(5*((qTarget/atmos['p_static_psf']+1)**(2/7)-1))\n",
    "    KTASTarget = aTarget*MachTarget\n",
    "    KEASTarget = KTASTarget*math.sqrt(atmos['pho_ratio'])\n",
    "  \n",
    "  elif analysis.upper() == \"MACH\": #Method ALT and MACH\n",
    "    MachTarget = speed_defined\n",
    "    KTASTarget = aTarget*MachTarget\n",
    "    KEASTarget = KTASTarget*math.sqrt(atmos['pho_ratio'])\n",
    "    qTarget    = atmos['p_static_psf']*((1+0.2*MachTarget**2)**(7/2)-1)\n",
    "    KCASTarget = a_0*math.sqrt(5*((qTarget/p_0+1)**(2/7)-1))\n",
    "\n",
    "  else:\n",
    "    print(\"Requested analysis not available\")\n",
    "    KTASTarget = np.NaN\n",
    "    KCASTarget = np.NaN\n",
    "    KEASTarget = np.NaN\n",
    "    MachTarget = np.NaN\n",
    "    qTarget = np.NaN\n",
    "\n",
    "  if MachTarget > 1.0 and MachTarget != np.NaN:\n",
    "    print(\"Mach greater than 1.0 quations not valid.\")\n",
    "    KTASTarget = np.NaN\n",
    "    KCASTarget = np.NaN\n",
    "    KEASTarget = np.NaN\n",
    "    MachTarget = np.NaN\n",
    "    qTarget = np.NaN\n",
    "\n",
    "  df = {\n",
    "    'Alt_ft': atmos['h_press_ft'],\n",
    "    'KCAS': KCASTarget,\n",
    "    'KEAS': KEASTarget,\n",
    "    'KTAS': KTASTarget,\n",
    "    'Mach': MachTarget,\n",
    "    'q_psf': qTarget,\n",
    "  }\n",
    "\n",
    "  return df\n",
    "\n",
    "output = speed_calc(\n",
    "  analysis=analysis_type,\n",
    "  speed_defined=user_speed,\n",
    "  atmos=user_atmos,\n",
    "  p_0=p_0,\n",
    "  )\n",
    "\n",
    "print(output)"
   ]
  },
  {
   "cell_type": "markdown",
   "metadata": {},
   "source": [
    "<h2>Output</h2>\n",
    "Prints output to user and appends to log file."
   ]
  },
  {
   "cell_type": "code",
   "execution_count": 17,
   "metadata": {},
   "outputs": [],
   "source": [
    "\n",
    "\n",
    "with open('AtmosLog.txt', 'w') as f:  \n",
    "    w = csv.DictWriter(f, output.keys())\n",
    "    w.writeheader()\n",
    "    w.writerow(output)\n"
   ]
  },
  {
   "cell_type": "markdown",
   "metadata": {},
   "source": [
    "<h2>Make a Speed Altitude Chart</h2>\n",
    "We want the ability to convert between ALt and a speed (KEAS, KCAS, KTAS or Mach) and display lines of constant speed.\n",
    "\n",
    "Initial capability is subsonic.\n",
    "\n",
    "User defines the contant Speed points."
   ]
  },
  {
   "cell_type": "code",
   "execution_count": 18,
   "metadata": {},
   "outputs": [
    {
     "name": "stdout",
     "output_type": "stream",
     "text": [
      "Mach greater than 1.0 quations not valid.\n",
      "Mach greater than 1.0 quations not valid.\n",
      "Mach greater than 1.0 quations not valid.\n",
      "Mach greater than 1.0 quations not valid.\n",
      "Mach greater than 1.0 quations not valid.\n",
      "Mach greater than 1.0 quations not valid.\n",
      "Mach greater than 1.0 quations not valid.\n",
      "Mach greater than 1.0 quations not valid.\n",
      "Mach greater than 1.0 quations not valid.\n",
      "Mach greater than 1.0 quations not valid.\n",
      "Mach greater than 1.0 quations not valid.\n",
      "Mach greater than 1.0 quations not valid.\n",
      "Mach greater than 1.0 quations not valid.\n",
      "Mach greater than 1.0 quations not valid.\n",
      "Mach greater than 1.0 quations not valid.\n",
      "Mach greater than 1.0 quations not valid.\n",
      "Mach greater than 1.0 quations not valid.\n",
      "Mach greater than 1.0 quations not valid.\n",
      "Mach greater than 1.0 quations not valid.\n",
      "Mach greater than 1.0 quations not valid.\n",
      "Mach greater than 1.0 quations not valid.\n",
      "Mach greater than 1.0 quations not valid.\n",
      "Mach greater than 1.0 quations not valid.\n",
      "Mach greater than 1.0 quations not valid.\n",
      "Mach greater than 1.0 quations not valid.\n",
      "Mach greater than 1.0 quations not valid.\n",
      "Mach greater than 1.0 quations not valid.\n",
      "Mach greater than 1.0 quations not valid.\n",
      "Mach greater than 1.0 quations not valid.\n",
      "Mach greater than 1.0 quations not valid.\n",
      "Mach greater than 1.0 quations not valid.\n",
      "Mach greater than 1.0 quations not valid.\n",
      "Mach greater than 1.0 quations not valid.\n",
      "Mach greater than 1.0 quations not valid.\n",
      "Mach greater than 1.0 quations not valid.\n",
      "Mach greater than 1.0 quations not valid.\n",
      "Mach greater than 1.0 quations not valid.\n",
      "Mach greater than 1.0 quations not valid.\n",
      "Mach greater than 1.0 quations not valid.\n",
      "Mach greater than 1.0 quations not valid.\n",
      "Mach greater than 1.0 quations not valid.\n",
      "Mach greater than 1.0 quations not valid.\n",
      "Mach greater than 1.0 quations not valid.\n",
      "Mach greater than 1.0 quations not valid.\n",
      "Mach greater than 1.0 quations not valid.\n",
      "Mach greater than 1.0 quations not valid.\n",
      "Mach greater than 1.0 quations not valid.\n",
      "Mach greater than 1.0 quations not valid.\n",
      "Mach greater than 1.0 quations not valid.\n",
      "Mach greater than 1.0 quations not valid.\n",
      "Mach greater than 1.0 quations not valid.\n",
      "Mach greater than 1.0 quations not valid.\n",
      "Mach greater than 1.0 quations not valid.\n",
      "Mach greater than 1.0 quations not valid.\n",
      "Mach greater than 1.0 quations not valid.\n",
      "Mach greater than 1.0 quations not valid.\n",
      "Mach greater than 1.0 quations not valid.\n",
      "Mach greater than 1.0 quations not valid.\n",
      "Mach greater than 1.0 quations not valid.\n",
      "Mach greater than 1.0 quations not valid.\n",
      "Mach greater than 1.0 quations not valid.\n",
      "Mach greater than 1.0 quations not valid.\n",
      "Mach greater than 1.0 quations not valid.\n",
      "Mach greater than 1.0 quations not valid.\n",
      "Mach greater than 1.0 quations not valid.\n",
      "Mach greater than 1.0 quations not valid.\n",
      "Mach greater than 1.0 quations not valid.\n",
      "Mach greater than 1.0 quations not valid.\n",
      "Mach greater than 1.0 quations not valid.\n",
      "Mach greater than 1.0 quations not valid.\n",
      "Mach greater than 1.0 quations not valid.\n",
      "Mach greater than 1.0 quations not valid.\n",
      "Mach greater than 1.0 quations not valid.\n",
      "Mach greater than 1.0 quations not valid.\n",
      "Mach greater than 1.0 quations not valid.\n",
      "Mach greater than 1.0 quations not valid.\n",
      "Mach greater than 1.0 quations not valid.\n",
      "Mach greater than 1.0 quations not valid.\n",
      "Mach greater than 1.0 quations not valid.\n",
      "Mach greater than 1.0 quations not valid.\n",
      "Mach greater than 1.0 quations not valid.\n",
      "Mach greater than 1.0 quations not valid.\n"
     ]
    }
   ],
   "source": [
    "# Contant Speed defined\n",
    "alt_range = [-2500, 1, 2000, 5000, 7500, 10000, 15000, 20000, 30000, 40000, 50000, 60000]\n",
    "const_keas = [0.01, 100, 200, 300, 400, 500, 600, 700]\n",
    "const_kcas = [0.01, 100, 200, 300, 400, 500, 600, 700]\n",
    "const_ktas = [0.01, 100, 200, 300, 400, 500, 600, 700]\n",
    "const_mach = [0.3, 0.5, 0.6, 0.7, 0.8, 0.85, 0.9, 0.95, 1.0]\n",
    "\n",
    "# Initalize the output csv file\n",
    "with open('speed_alt_data.csv', 'w') as f:  \n",
    "    w = csv.DictWriter(f, output.keys())\n",
    "    w.writeheader()\n",
    "\n",
    "# Loop through the constant to get tables of constant data.\n",
    "\n",
    "for alt in alt_range:\n",
    "\n",
    "    atmos_data = standard_air_data (h_press=alt, df_atmos=df_atmos)\n",
    "\n",
    "    # Calc all keas\n",
    "    for eas in const_keas:\n",
    "        \n",
    "        output = speed_calc(\n",
    "            analysis=\"keas\",\n",
    "            speed_defined=eas,\n",
    "            atmos=atmos_data,\n",
    "            p_0=p_0,\n",
    "            )\n",
    "        \n",
    "        with open('speed_alt_data.csv', 'a') as f:  \n",
    "            w = csv.DictWriter(f, output.keys())\n",
    "            w.writerow(output)\n",
    "\n",
    "    # Calc all ktas\n",
    "    for tas in const_ktas:\n",
    "        \n",
    "        output = speed_calc(\n",
    "            analysis=\"ktas\",\n",
    "            speed_defined=tas,\n",
    "            atmos=atmos_data,\n",
    "            p_0=p_0,\n",
    "            )\n",
    "        \n",
    "        with open('speed_alt_data.csv', 'a') as f:  \n",
    "            w = csv.DictWriter(f, output.keys())\n",
    "            w.writerow(output)\n",
    "\n",
    "    # Calc all kcas\n",
    "    for cas in const_kcas:\n",
    "        \n",
    "        output = speed_calc(\n",
    "            analysis=\"kcas\",\n",
    "            speed_defined=cas,\n",
    "            atmos=atmos_data,\n",
    "            p_0=p_0,\n",
    "            )\n",
    "        \n",
    "        with open('speed_alt_data.csv', 'a') as f:  \n",
    "            w = csv.DictWriter(f, output.keys())\n",
    "            w.writerow(output)\n",
    "\n",
    "    # Calc all Mach\n",
    "    for mach in const_mach:\n",
    "        \n",
    "        output = speed_calc(\n",
    "            analysis=\"mach\",\n",
    "            speed_defined=mach,\n",
    "            atmos=atmos_data,\n",
    "            p_0=p_0,\n",
    "            )\n",
    "        \n",
    "        with open('speed_alt_data.csv', 'a') as f:  \n",
    "            w = csv.DictWriter(f, output.keys())\n",
    "            w.writerow(output)"
   ]
  },
  {
   "cell_type": "markdown",
   "metadata": {},
   "source": [
    "Next is to add a formatted chart option.  Here the user slects the main Axis (currently Y-axis is set to Altitude) with X-axis been any of KCAS, KEAS, KTAS, Mach and then selects lines of constant speed to be plotted.  (note should not select the same as the X-axis)"
   ]
  },
  {
   "cell_type": "code",
   "execution_count": 24,
   "metadata": {},
   "outputs": [
    {
     "data": {
      "application/vnd.plotly.v1+json": {
       "config": {
        "plotlyServerURL": "https://plot.ly"
       },
       "data": [
        {
         "line": {
          "color": "rgb(204, 204, 204)",
          "width": 1
         },
         "mode": "lines",
         "name": "M0.3",
         "type": "scatter",
         "x": [
          199.88418563367117,
          198.41046543736056,
          197.0631031912132,
          194.971510278518,
          193.2294526326923,
          191.47196180474808,
          187.9090875789564,
          184.2789196141049,
          176.80074608169957,
          172.0425658698605,
          172.04258078872658,
          172.04269755297673
         ],
         "y": [
          -2500,
          1,
          2000,
          5000,
          7500,
          10000,
          15000,
          20000,
          30000,
          40000,
          50000,
          60000
         ]
        },
        {
         "line": {
          "color": "rgb(204, 204, 204)",
          "width": 1
         },
         "mode": "lines",
         "name": "M0.5",
         "type": "scatter",
         "x": [
          333.1403093894519,
          330.6841090622676,
          328.43850531868867,
          324.9525171308633,
          322.04908772115385,
          319.1199363412468,
          313.181812631594,
          307.1315326901748,
          294.667910136166,
          286.7376097831009,
          286.73763464787766,
          286.73782925496124
         ],
         "y": [
          -2500,
          1,
          2000,
          5000,
          7500,
          10000,
          15000,
          20000,
          30000,
          40000,
          50000,
          60000
         ]
        },
        {
         "line": {
          "color": "rgb(204, 204, 204)",
          "width": 1
         },
         "mode": "lines",
         "name": "M0.6",
         "type": "scatter",
         "x": [
          399.7683712673423,
          396.8209308747211,
          394.1262063824264,
          389.943020557036,
          386.4589052653846,
          382.94392360949615,
          375.8181751579128,
          368.5578392282097,
          353.60149216339914,
          344.085131739721,
          344.0851615774532,
          344.08539510595347
         ],
         "y": [
          -2500,
          1,
          2000,
          5000,
          7500,
          10000,
          15000,
          20000,
          30000,
          40000,
          50000,
          60000
         ]
        },
        {
         "line": {
          "color": "rgb(204, 204, 204)",
          "width": 1
         },
         "mode": "lines",
         "name": "M0.7",
         "type": "scatter",
         "x": [
          466.3964331452326,
          462.95775268717466,
          459.8139074461641,
          454.9335239832086,
          450.86872280961535,
          446.7679108777455,
          438.4545376842317,
          429.98414576624464,
          412.5350741906323,
          401.4326536963412,
          401.4326885070287,
          401.4329609569457
         ],
         "y": [
          -2500,
          1,
          2000,
          5000,
          7500,
          10000,
          15000,
          20000,
          30000,
          40000,
          50000,
          60000
         ]
        },
        {
         "line": {
          "color": "rgb(204, 204, 204)",
          "width": 1
         },
         "mode": "lines",
         "name": "M0.8",
         "type": "scatter",
         "x": [
          533.024495023123,
          529.0945744996283,
          525.5016085099019,
          519.9240274093813,
          515.2785403538462,
          510.5918981459949,
          501.0909002105504,
          491.41045230427966,
          471.4686562178656,
          458.7801756529614,
          458.7802154366043,
          458.780526807938
         ],
         "y": [
          -2500,
          1,
          2000,
          5000,
          7500,
          10000,
          15000,
          20000,
          30000,
          40000,
          50000,
          60000
         ]
        },
        {
         "line": {
          "color": "rgb(204, 204, 204)",
          "width": 1
         },
         "mode": "lines",
         "name": "M0.85",
         "type": "scatter",
         "x": [
          566.3385259620682,
          562.1629854058549,
          558.3454590417707,
          552.4192791224676,
          547.4834491259616,
          542.5038917801195,
          532.4090814737099,
          522.1236055732971,
          500.93544723148216,
          487.45393663127146,
          487.453978901392,
          487.4543097334341
         ],
         "y": [
          -2500,
          1,
          2000,
          5000,
          7500,
          10000,
          15000,
          20000,
          30000,
          40000,
          50000,
          60000
         ]
        },
        {
         "line": {
          "color": "rgb(204, 204, 204)",
          "width": 1
         },
         "mode": "lines",
         "name": "M0.9",
         "type": "scatter",
         "x": [
          599.6525569010134,
          595.2313963120818,
          591.1893095736397,
          584.914530835554,
          579.6883578980769,
          574.4158854142443,
          563.7272627368693,
          552.8367588423146,
          530.4022382450987,
          516.1276976095816,
          516.1277423661797,
          516.1280926589302
         ],
         "y": [
          -2500,
          1,
          2000,
          5000,
          7500,
          10000,
          15000,
          20000,
          30000,
          40000,
          50000,
          60000
         ]
        },
        {
         "line": {
          "color": "rgb(204, 204, 204)",
          "width": 1
         },
         "mode": "lines",
         "name": "M0.95",
         "type": "scatter",
         "x": [
          632.9665878399586,
          628.2998072183085,
          624.0331601055084,
          617.4097825486402,
          611.8932666701922,
          606.3278790483689,
          595.0454440000286,
          583.549912111332,
          559.8690292587153,
          544.8014585878916,
          544.8015058309675,
          544.8018755844263
         ],
         "y": [
          -2500,
          1,
          2000,
          5000,
          7500,
          10000,
          15000,
          20000,
          30000,
          40000,
          50000,
          60000
         ]
        },
        {
         "line": {
          "color": "rgb(204, 204, 204)",
          "width": 1
         },
         "mode": "lines",
         "name": "M1.0",
         "type": "scatter",
         "x": [
          666.2806187789038,
          661.3682181245352,
          656.8770106373773,
          649.9050342617267,
          644.0981754423077,
          638.2398726824936,
          626.363625263188,
          614.2630653803495,
          589.335820272332,
          573.4752195662018,
          573.4752692957553,
          573.4756585099225
         ],
         "y": [
          -2500,
          1,
          2000,
          5000,
          7500,
          10000,
          15000,
          20000,
          30000,
          40000,
          50000,
          60000
         ]
        }
       ],
       "layout": {
        "autosize": false,
        "margin": {
         "autoexpand": true,
         "l": 100,
         "r": 20,
         "t": 110
        },
        "plot_bgcolor": "white",
        "showlegend": true,
        "template": {
         "data": {
          "bar": [
           {
            "error_x": {
             "color": "#2a3f5f"
            },
            "error_y": {
             "color": "#2a3f5f"
            },
            "marker": {
             "line": {
              "color": "#E5ECF6",
              "width": 0.5
             },
             "pattern": {
              "fillmode": "overlay",
              "size": 10,
              "solidity": 0.2
             }
            },
            "type": "bar"
           }
          ],
          "barpolar": [
           {
            "marker": {
             "line": {
              "color": "#E5ECF6",
              "width": 0.5
             },
             "pattern": {
              "fillmode": "overlay",
              "size": 10,
              "solidity": 0.2
             }
            },
            "type": "barpolar"
           }
          ],
          "carpet": [
           {
            "aaxis": {
             "endlinecolor": "#2a3f5f",
             "gridcolor": "white",
             "linecolor": "white",
             "minorgridcolor": "white",
             "startlinecolor": "#2a3f5f"
            },
            "baxis": {
             "endlinecolor": "#2a3f5f",
             "gridcolor": "white",
             "linecolor": "white",
             "minorgridcolor": "white",
             "startlinecolor": "#2a3f5f"
            },
            "type": "carpet"
           }
          ],
          "choropleth": [
           {
            "colorbar": {
             "outlinewidth": 0,
             "ticks": ""
            },
            "type": "choropleth"
           }
          ],
          "contour": [
           {
            "colorbar": {
             "outlinewidth": 0,
             "ticks": ""
            },
            "colorscale": [
             [
              0,
              "#0d0887"
             ],
             [
              0.1111111111111111,
              "#46039f"
             ],
             [
              0.2222222222222222,
              "#7201a8"
             ],
             [
              0.3333333333333333,
              "#9c179e"
             ],
             [
              0.4444444444444444,
              "#bd3786"
             ],
             [
              0.5555555555555556,
              "#d8576b"
             ],
             [
              0.6666666666666666,
              "#ed7953"
             ],
             [
              0.7777777777777778,
              "#fb9f3a"
             ],
             [
              0.8888888888888888,
              "#fdca26"
             ],
             [
              1,
              "#f0f921"
             ]
            ],
            "type": "contour"
           }
          ],
          "contourcarpet": [
           {
            "colorbar": {
             "outlinewidth": 0,
             "ticks": ""
            },
            "type": "contourcarpet"
           }
          ],
          "heatmap": [
           {
            "colorbar": {
             "outlinewidth": 0,
             "ticks": ""
            },
            "colorscale": [
             [
              0,
              "#0d0887"
             ],
             [
              0.1111111111111111,
              "#46039f"
             ],
             [
              0.2222222222222222,
              "#7201a8"
             ],
             [
              0.3333333333333333,
              "#9c179e"
             ],
             [
              0.4444444444444444,
              "#bd3786"
             ],
             [
              0.5555555555555556,
              "#d8576b"
             ],
             [
              0.6666666666666666,
              "#ed7953"
             ],
             [
              0.7777777777777778,
              "#fb9f3a"
             ],
             [
              0.8888888888888888,
              "#fdca26"
             ],
             [
              1,
              "#f0f921"
             ]
            ],
            "type": "heatmap"
           }
          ],
          "heatmapgl": [
           {
            "colorbar": {
             "outlinewidth": 0,
             "ticks": ""
            },
            "colorscale": [
             [
              0,
              "#0d0887"
             ],
             [
              0.1111111111111111,
              "#46039f"
             ],
             [
              0.2222222222222222,
              "#7201a8"
             ],
             [
              0.3333333333333333,
              "#9c179e"
             ],
             [
              0.4444444444444444,
              "#bd3786"
             ],
             [
              0.5555555555555556,
              "#d8576b"
             ],
             [
              0.6666666666666666,
              "#ed7953"
             ],
             [
              0.7777777777777778,
              "#fb9f3a"
             ],
             [
              0.8888888888888888,
              "#fdca26"
             ],
             [
              1,
              "#f0f921"
             ]
            ],
            "type": "heatmapgl"
           }
          ],
          "histogram": [
           {
            "marker": {
             "pattern": {
              "fillmode": "overlay",
              "size": 10,
              "solidity": 0.2
             }
            },
            "type": "histogram"
           }
          ],
          "histogram2d": [
           {
            "colorbar": {
             "outlinewidth": 0,
             "ticks": ""
            },
            "colorscale": [
             [
              0,
              "#0d0887"
             ],
             [
              0.1111111111111111,
              "#46039f"
             ],
             [
              0.2222222222222222,
              "#7201a8"
             ],
             [
              0.3333333333333333,
              "#9c179e"
             ],
             [
              0.4444444444444444,
              "#bd3786"
             ],
             [
              0.5555555555555556,
              "#d8576b"
             ],
             [
              0.6666666666666666,
              "#ed7953"
             ],
             [
              0.7777777777777778,
              "#fb9f3a"
             ],
             [
              0.8888888888888888,
              "#fdca26"
             ],
             [
              1,
              "#f0f921"
             ]
            ],
            "type": "histogram2d"
           }
          ],
          "histogram2dcontour": [
           {
            "colorbar": {
             "outlinewidth": 0,
             "ticks": ""
            },
            "colorscale": [
             [
              0,
              "#0d0887"
             ],
             [
              0.1111111111111111,
              "#46039f"
             ],
             [
              0.2222222222222222,
              "#7201a8"
             ],
             [
              0.3333333333333333,
              "#9c179e"
             ],
             [
              0.4444444444444444,
              "#bd3786"
             ],
             [
              0.5555555555555556,
              "#d8576b"
             ],
             [
              0.6666666666666666,
              "#ed7953"
             ],
             [
              0.7777777777777778,
              "#fb9f3a"
             ],
             [
              0.8888888888888888,
              "#fdca26"
             ],
             [
              1,
              "#f0f921"
             ]
            ],
            "type": "histogram2dcontour"
           }
          ],
          "mesh3d": [
           {
            "colorbar": {
             "outlinewidth": 0,
             "ticks": ""
            },
            "type": "mesh3d"
           }
          ],
          "parcoords": [
           {
            "line": {
             "colorbar": {
              "outlinewidth": 0,
              "ticks": ""
             }
            },
            "type": "parcoords"
           }
          ],
          "pie": [
           {
            "automargin": true,
            "type": "pie"
           }
          ],
          "scatter": [
           {
            "fillpattern": {
             "fillmode": "overlay",
             "size": 10,
             "solidity": 0.2
            },
            "type": "scatter"
           }
          ],
          "scatter3d": [
           {
            "line": {
             "colorbar": {
              "outlinewidth": 0,
              "ticks": ""
             }
            },
            "marker": {
             "colorbar": {
              "outlinewidth": 0,
              "ticks": ""
             }
            },
            "type": "scatter3d"
           }
          ],
          "scattercarpet": [
           {
            "marker": {
             "colorbar": {
              "outlinewidth": 0,
              "ticks": ""
             }
            },
            "type": "scattercarpet"
           }
          ],
          "scattergeo": [
           {
            "marker": {
             "colorbar": {
              "outlinewidth": 0,
              "ticks": ""
             }
            },
            "type": "scattergeo"
           }
          ],
          "scattergl": [
           {
            "marker": {
             "colorbar": {
              "outlinewidth": 0,
              "ticks": ""
             }
            },
            "type": "scattergl"
           }
          ],
          "scattermapbox": [
           {
            "marker": {
             "colorbar": {
              "outlinewidth": 0,
              "ticks": ""
             }
            },
            "type": "scattermapbox"
           }
          ],
          "scatterpolar": [
           {
            "marker": {
             "colorbar": {
              "outlinewidth": 0,
              "ticks": ""
             }
            },
            "type": "scatterpolar"
           }
          ],
          "scatterpolargl": [
           {
            "marker": {
             "colorbar": {
              "outlinewidth": 0,
              "ticks": ""
             }
            },
            "type": "scatterpolargl"
           }
          ],
          "scatterternary": [
           {
            "marker": {
             "colorbar": {
              "outlinewidth": 0,
              "ticks": ""
             }
            },
            "type": "scatterternary"
           }
          ],
          "surface": [
           {
            "colorbar": {
             "outlinewidth": 0,
             "ticks": ""
            },
            "colorscale": [
             [
              0,
              "#0d0887"
             ],
             [
              0.1111111111111111,
              "#46039f"
             ],
             [
              0.2222222222222222,
              "#7201a8"
             ],
             [
              0.3333333333333333,
              "#9c179e"
             ],
             [
              0.4444444444444444,
              "#bd3786"
             ],
             [
              0.5555555555555556,
              "#d8576b"
             ],
             [
              0.6666666666666666,
              "#ed7953"
             ],
             [
              0.7777777777777778,
              "#fb9f3a"
             ],
             [
              0.8888888888888888,
              "#fdca26"
             ],
             [
              1,
              "#f0f921"
             ]
            ],
            "type": "surface"
           }
          ],
          "table": [
           {
            "cells": {
             "fill": {
              "color": "#EBF0F8"
             },
             "line": {
              "color": "white"
             }
            },
            "header": {
             "fill": {
              "color": "#C8D4E3"
             },
             "line": {
              "color": "white"
             }
            },
            "type": "table"
           }
          ]
         },
         "layout": {
          "annotationdefaults": {
           "arrowcolor": "#2a3f5f",
           "arrowhead": 0,
           "arrowwidth": 1
          },
          "autotypenumbers": "strict",
          "coloraxis": {
           "colorbar": {
            "outlinewidth": 0,
            "ticks": ""
           }
          },
          "colorscale": {
           "diverging": [
            [
             0,
             "#8e0152"
            ],
            [
             0.1,
             "#c51b7d"
            ],
            [
             0.2,
             "#de77ae"
            ],
            [
             0.3,
             "#f1b6da"
            ],
            [
             0.4,
             "#fde0ef"
            ],
            [
             0.5,
             "#f7f7f7"
            ],
            [
             0.6,
             "#e6f5d0"
            ],
            [
             0.7,
             "#b8e186"
            ],
            [
             0.8,
             "#7fbc41"
            ],
            [
             0.9,
             "#4d9221"
            ],
            [
             1,
             "#276419"
            ]
           ],
           "sequential": [
            [
             0,
             "#0d0887"
            ],
            [
             0.1111111111111111,
             "#46039f"
            ],
            [
             0.2222222222222222,
             "#7201a8"
            ],
            [
             0.3333333333333333,
             "#9c179e"
            ],
            [
             0.4444444444444444,
             "#bd3786"
            ],
            [
             0.5555555555555556,
             "#d8576b"
            ],
            [
             0.6666666666666666,
             "#ed7953"
            ],
            [
             0.7777777777777778,
             "#fb9f3a"
            ],
            [
             0.8888888888888888,
             "#fdca26"
            ],
            [
             1,
             "#f0f921"
            ]
           ],
           "sequentialminus": [
            [
             0,
             "#0d0887"
            ],
            [
             0.1111111111111111,
             "#46039f"
            ],
            [
             0.2222222222222222,
             "#7201a8"
            ],
            [
             0.3333333333333333,
             "#9c179e"
            ],
            [
             0.4444444444444444,
             "#bd3786"
            ],
            [
             0.5555555555555556,
             "#d8576b"
            ],
            [
             0.6666666666666666,
             "#ed7953"
            ],
            [
             0.7777777777777778,
             "#fb9f3a"
            ],
            [
             0.8888888888888888,
             "#fdca26"
            ],
            [
             1,
             "#f0f921"
            ]
           ]
          },
          "colorway": [
           "#636efa",
           "#EF553B",
           "#00cc96",
           "#ab63fa",
           "#FFA15A",
           "#19d3f3",
           "#FF6692",
           "#B6E880",
           "#FF97FF",
           "#FECB52"
          ],
          "font": {
           "color": "#2a3f5f"
          },
          "geo": {
           "bgcolor": "white",
           "lakecolor": "white",
           "landcolor": "#E5ECF6",
           "showlakes": true,
           "showland": true,
           "subunitcolor": "white"
          },
          "hoverlabel": {
           "align": "left"
          },
          "hovermode": "closest",
          "mapbox": {
           "style": "light"
          },
          "paper_bgcolor": "white",
          "plot_bgcolor": "#E5ECF6",
          "polar": {
           "angularaxis": {
            "gridcolor": "white",
            "linecolor": "white",
            "ticks": ""
           },
           "bgcolor": "#E5ECF6",
           "radialaxis": {
            "gridcolor": "white",
            "linecolor": "white",
            "ticks": ""
           }
          },
          "scene": {
           "xaxis": {
            "backgroundcolor": "#E5ECF6",
            "gridcolor": "white",
            "gridwidth": 2,
            "linecolor": "white",
            "showbackground": true,
            "ticks": "",
            "zerolinecolor": "white"
           },
           "yaxis": {
            "backgroundcolor": "#E5ECF6",
            "gridcolor": "white",
            "gridwidth": 2,
            "linecolor": "white",
            "showbackground": true,
            "ticks": "",
            "zerolinecolor": "white"
           },
           "zaxis": {
            "backgroundcolor": "#E5ECF6",
            "gridcolor": "white",
            "gridwidth": 2,
            "linecolor": "white",
            "showbackground": true,
            "ticks": "",
            "zerolinecolor": "white"
           }
          },
          "shapedefaults": {
           "line": {
            "color": "#2a3f5f"
           }
          },
          "ternary": {
           "aaxis": {
            "gridcolor": "white",
            "linecolor": "white",
            "ticks": ""
           },
           "baxis": {
            "gridcolor": "white",
            "linecolor": "white",
            "ticks": ""
           },
           "bgcolor": "#E5ECF6",
           "caxis": {
            "gridcolor": "white",
            "linecolor": "white",
            "ticks": ""
           }
          },
          "title": {
           "x": 0.05
          },
          "xaxis": {
           "automargin": true,
           "gridcolor": "white",
           "linecolor": "white",
           "ticks": "",
           "title": {
            "standoff": 15
           },
           "zerolinecolor": "white",
           "zerolinewidth": 2
          },
          "yaxis": {
           "automargin": true,
           "gridcolor": "white",
           "linecolor": "white",
           "ticks": "",
           "title": {
            "standoff": 15
           },
           "zerolinecolor": "white",
           "zerolinewidth": 2
          }
         }
        },
        "title": {
         "text": "SPEED ALTITUDE CHART"
        },
        "xaxis": {
         "gridcolor": "rgb(204, 204, 204)",
         "griddash": "dot",
         "linecolor": "rgb(204, 204, 204)",
         "linewidth": 1,
         "range": [
          0,
          700
         ],
         "showgrid": true,
         "showline": true,
         "showticklabels": true,
         "tickfont": {
          "color": "rgb(82, 82, 82)",
          "family": "Arial",
          "size": 12
         },
         "ticks": "outside",
         "title": {
          "text": "KTAS"
         }
        },
        "yaxis": {
         "gridcolor": "rgb(204, 204, 204)",
         "griddash": "dot",
         "linecolor": "rgb(204, 204, 204)",
         "linewidth": 2,
         "range": [
          -2500,
          60000
         ],
         "showgrid": true,
         "showline": true,
         "showticklabels": true,
         "tickfont": {
          "color": "rgb(82, 82, 82)",
          "family": "Arial",
          "size": 12
         },
         "ticks": "outside",
         "title": {
          "text": "Alt_ft"
         },
         "zeroline": true
        }
       }
      }
     },
     "metadata": {},
     "output_type": "display_data"
    }
   ],
   "source": [
    "import plotly.graph_objects as go\n",
    "\n",
    "# User defined plot variables\n",
    "\n",
    "# Read in the speed altitude data\n",
    "df_alt_speed = pd.read_csv('./speed_alt_data.csv', comment=\"#\")\n",
    "\n",
    "# Plot Axis\n",
    "y_axis = 'Alt_ft'\n",
    "x_axis = 'KTAS'\n",
    "\n",
    "# Lines of Constant Speed \n",
    "# Set to Mach at the moment\n",
    "# TODO Make this selectable\n",
    "\n",
    "# Plot defintion\n",
    "\n",
    "# Define your plot\n",
    "fig = go.Figure()\n",
    "\n",
    "# Plot all the mach (note this is NOT extracted from the data file!  Should really extract it)\n",
    "for speed in const_mach:\n",
    "    plot_data = df_alt_speed[df_alt_speed[\"Mach\"] == speed]\n",
    "    fig.add_trace(go.Scatter(\n",
    "                  x=plot_data[x_axis],\n",
    "                  y=plot_data[y_axis],\n",
    "                  name = f\"M{speed}\",\n",
    "                  mode='lines',\n",
    "                  line = dict(color='rgb(204, 204, 204)', width=1)\n",
    "                  ))\n",
    "\n",
    "fig.update_layout(title='SPEED ALTITUDE CHART',\n",
    "                   xaxis_title=x_axis,\n",
    "                   yaxis_title=y_axis)\n",
    "\n",
    "\n",
    "fig.update_layout(\n",
    "    xaxis=dict(\n",
    "        showline=True,\n",
    "        showgrid=True,\n",
    "        showticklabels=True,\n",
    "        linecolor='rgb(204, 204, 204)',\n",
    "        linewidth=1,\n",
    "        ticks='outside',\n",
    "        tickfont=dict(\n",
    "            family='Arial',\n",
    "            size=12,\n",
    "            color='rgb(82, 82, 82)',\n",
    "        ),\n",
    "        gridcolor='rgb(204, 204, 204)',\n",
    "        griddash='dot',\n",
    "        range=[0,700],\n",
    "    ),\n",
    "    yaxis=dict(\n",
    "        showgrid=True,\n",
    "        zeroline=True,\n",
    "        showline=True,\n",
    "        showticklabels=True,\n",
    "        linecolor='rgb(204, 204, 204)',\n",
    "        linewidth=2,\n",
    "        ticks='outside',\n",
    "        tickfont=dict(\n",
    "            family='Arial',\n",
    "            size=12,\n",
    "            color='rgb(82, 82, 82)',\n",
    "        ),\n",
    "        gridcolor='rgb(204, 204, 204)',\n",
    "        griddash='dot',\n",
    "        range=[-2500,60000],\n",
    "    ),\n",
    "    autosize=False,\n",
    "    \n",
    "    margin=dict(\n",
    "        autoexpand=True,\n",
    "        l=100,\n",
    "        r=20,\n",
    "        t=110,\n",
    "    ),\n",
    "    showlegend=True,\n",
    "    plot_bgcolor='white'\n",
    ")\n",
    "\n",
    "fig.show()\n"
   ]
  }
 ],
 "metadata": {
  "kernelspec": {
   "display_name": "Python 3",
   "language": "python",
   "name": "python3"
  },
  "language_info": {
   "codemirror_mode": {
    "name": "ipython",
    "version": 3
   },
   "file_extension": ".py",
   "mimetype": "text/x-python",
   "name": "python",
   "nbconvert_exporter": "python",
   "pygments_lexer": "ipython3",
   "version": "3.12.0"
  }
 },
 "nbformat": 4,
 "nbformat_minor": 2
}
